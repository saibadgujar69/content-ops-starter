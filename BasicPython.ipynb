{
  "nbformat": 4,
  "nbformat_minor": 0,
  "metadata": {
    "colab": {
      "provenance": [],
      "authorship_tag": "ABX9TyM3qp2FKaQZxzKqD4rllpkK",
      "include_colab_link": true
    },
    "kernelspec": {
      "name": "python3",
      "display_name": "Python 3"
    },
    "language_info": {
      "name": "python"
    }
  },
  "cells": [
    {
      "cell_type": "markdown",
      "metadata": {
        "id": "view-in-github",
        "colab_type": "text"
      },
      "source": [
        "<a href=\"https://colab.research.google.com/github/saibadgujar69/content-ops-starter/blob/main/BasicPython.ipynb\" target=\"_parent\"><img src=\"https://colab.research.google.com/assets/colab-badge.svg\" alt=\"Open In Colab\"/></a>"
      ]
    },
    {
      "cell_type": "code",
      "execution_count": null,
      "metadata": {
        "id": "U2h9bYgGWI6m"
      },
      "outputs": [],
      "source": [
        "a=3"
      ]
    },
    {
      "cell_type": "code",
      "source": [
        "print(\"Sai\")# to print on screen"
      ],
      "metadata": {
        "colab": {
          "base_uri": "https://localhost:8080/"
        },
        "id": "vvPMo8i5aTcs",
        "outputId": "dd1c7820-2cc5-420e-f2eb-931c2b7fa205"
      },
      "execution_count": null,
      "outputs": [
        {
          "output_type": "stream",
          "name": "stdout",
          "text": [
            "Sai\n"
          ]
        }
      ]
    },
    {
      "cell_type": "code",
      "source": [
        "print(\"a\")# diff types of strings\n",
        "print(\"A\")\n",
        "print(\"Apple\")\n",
        "print(\"An apple a day keeps the doctor away\")\n",
        "print(\"Apples contain antioxidants, vitamins, dietary fiber, and a range of other nutrients.\\nDue to their varied nutrient content, apples can be a healthy addition to a balanced diet. \\nApples come in a variety of shapes, colors, and flavors. They provide a range of nutrients \\nthat can benefit many aspects of a person's health.\")"
      ],
      "metadata": {
        "colab": {
          "base_uri": "https://localhost:8080/"
        },
        "id": "Fyq981npb4J0",
        "outputId": "02688237-9009-4b03-bac2-3d3cf44b3c33"
      },
      "execution_count": null,
      "outputs": [
        {
          "output_type": "stream",
          "name": "stdout",
          "text": [
            "a\n",
            "A\n",
            "Apple\n",
            "An apple a day keeps the doctor away\n",
            "Apples contain antioxidants, vitamins, dietary fiber, and a range of other nutrients.\n",
            "Due to their varied nutrient content, apples can be a healthy addition to a balanced diet. \n",
            "Apples come in a variety of shapes, colors, and flavors. They provide a range of nutrients \n",
            "that can benefit many aspects of a person's health.\n"
          ]
        }
      ]
    },
    {
      "cell_type": "code",
      "source": [
        "print(3)#integer\n",
        "print(3.14)#float\n",
        "print(324136514)#double\n",
        "print(-3)\n",
        "print(True)\n",
        "print(False)"
      ],
      "metadata": {
        "colab": {
          "base_uri": "https://localhost:8080/"
        },
        "id": "xjHWI8YkdTYA",
        "outputId": "2a83db8c-df2e-4afb-9a76-4551c3ee3f10"
      },
      "execution_count": null,
      "outputs": [
        {
          "output_type": "stream",
          "name": "stdout",
          "text": [
            "3\n",
            "3.14\n",
            "324136514\n",
            "-3\n",
            "True\n",
            "False\n"
          ]
        }
      ]
    },
    {
      "cell_type": "code",
      "source": [
        "\n",
        "a=\"a\"\n",
        "b=\"tgft\"\n",
        "type(a)\n",
        "\n",
        "\n"
      ],
      "metadata": {
        "colab": {
          "base_uri": "https://localhost:8080/"
        },
        "id": "swRlxwW4fYNu",
        "outputId": "4772266c-7072-463c-d7d5-f3e6e7c3c5ec"
      },
      "execution_count": null,
      "outputs": [
        {
          "output_type": "execute_result",
          "data": {
            "text/plain": [
              "str"
            ]
          },
          "metadata": {},
          "execution_count": 13
        }
      ]
    },
    {
      "cell_type": "code",
      "source": [
        "c=3\n",
        "type(c)"
      ],
      "metadata": {
        "colab": {
          "base_uri": "https://localhost:8080/"
        },
        "id": "xppa4E16hGpm",
        "outputId": "f887f6bf-8805-4e77-86a6-fee19dd3bc3e"
      },
      "execution_count": null,
      "outputs": [
        {
          "output_type": "execute_result",
          "data": {
            "text/plain": [
              "int"
            ]
          },
          "metadata": {},
          "execution_count": 7
        }
      ]
    },
    {
      "cell_type": "code",
      "source": [
        "d=3.14\n",
        "type(d)"
      ],
      "metadata": {
        "colab": {
          "base_uri": "https://localhost:8080/"
        },
        "id": "i_cTQq3_hbUC",
        "outputId": "aa385c4f-5b03-487f-f564-841ac499ebad"
      },
      "execution_count": null,
      "outputs": [
        {
          "output_type": "execute_result",
          "data": {
            "text/plain": [
              "float"
            ]
          },
          "metadata": {},
          "execution_count": 21
        }
      ]
    },
    {
      "cell_type": "code",
      "source": [
        "e=True\n",
        "type(e)"
      ],
      "metadata": {
        "colab": {
          "base_uri": "https://localhost:8080/"
        },
        "id": "jP41Jcf8hi3m",
        "outputId": "5de47b01-a6d6-44b0-ac2a-4aee4a6f56c1"
      },
      "execution_count": null,
      "outputs": [
        {
          "output_type": "execute_result",
          "data": {
            "text/plain": [
              "bool"
            ]
          },
          "metadata": {},
          "execution_count": 22
        }
      ]
    },
    {
      "cell_type": "code",
      "source": [
        "\"\"\"\n",
        "multiline\n",
        "comment\n",
        "\"\"\""
      ],
      "metadata": {
        "colab": {
          "base_uri": "https://localhost:8080/",
          "height": 35
        },
        "id": "DvEzyJIThp98",
        "outputId": "bd27d787-5237-4ed7-f97d-83bb727f5b32"
      },
      "execution_count": null,
      "outputs": [
        {
          "output_type": "execute_result",
          "data": {
            "text/plain": [
              "' \\nmultiline\\ncomment\\n'"
            ],
            "application/vnd.google.colaboratory.intrinsic+json": {
              "type": "string"
            }
          },
          "metadata": {},
          "execution_count": 24
        }
      ]
    },
    {
      "cell_type": "code",
      "source": [
        "empsal=1000"
      ],
      "metadata": {
        "id": "lxKRaxPSiJ87"
      },
      "execution_count": null,
      "outputs": []
    },
    {
      "cell_type": "code",
      "source": [
        "_asd=\"snxasn\""
      ],
      "metadata": {
        "id": "KNnsDMdNmioO"
      },
      "execution_count": null,
      "outputs": []
    },
    {
      "cell_type": "code",
      "source": [
        "3ss=2"
      ],
      "metadata": {
        "colab": {
          "base_uri": "https://localhost:8080/",
          "height": 111
        },
        "id": "gjAWXfQomp4N",
        "outputId": "7501c08d-06c8-4ce4-de94-8525d74f6431"
      },
      "execution_count": null,
      "outputs": [
        {
          "output_type": "error",
          "ename": "SyntaxError",
          "evalue": "invalid decimal literal (<ipython-input-3-3f439852860e>, line 1)",
          "traceback": [
            "\u001b[0;36m  File \u001b[0;32m\"<ipython-input-3-3f439852860e>\"\u001b[0;36m, line \u001b[0;32m1\u001b[0m\n\u001b[0;31m    3ss=2\u001b[0m\n\u001b[0m    ^\u001b[0m\n\u001b[0;31mSyntaxError\u001b[0m\u001b[0;31m:\u001b[0m invalid decimal literal\n"
          ]
        }
      ]
    },
    {
      "cell_type": "code",
      "source": [
        "while=2"
      ],
      "metadata": {
        "colab": {
          "base_uri": "https://localhost:8080/",
          "height": 111
        },
        "id": "MIozTfTLm11G",
        "outputId": "922a6bb5-7283-474f-fa66-eb6f2f0b2f75"
      },
      "execution_count": null,
      "outputs": [
        {
          "output_type": "error",
          "ename": "SyntaxError",
          "evalue": "invalid syntax (<ipython-input-4-afbcf7868bc1>, line 1)",
          "traceback": [
            "\u001b[0;36m  File \u001b[0;32m\"<ipython-input-4-afbcf7868bc1>\"\u001b[0;36m, line \u001b[0;32m1\u001b[0m\n\u001b[0;31m    while=2\u001b[0m\n\u001b[0m         ^\u001b[0m\n\u001b[0;31mSyntaxError\u001b[0m\u001b[0;31m:\u001b[0m invalid syntax\n"
          ]
        }
      ]
    },
    {
      "cell_type": "code",
      "source": [
        "f=\"qas\"\n",
        "type(f)"
      ],
      "metadata": {
        "id": "UPg5oLsOm6Vt",
        "colab": {
          "base_uri": "https://localhost:8080/"
        },
        "outputId": "a36da322-b351-4ba1-f7c1-9b3918b0355c"
      },
      "execution_count": null,
      "outputs": [
        {
          "output_type": "execute_result",
          "data": {
            "text/plain": [
              "str"
            ]
          },
          "metadata": {},
          "execution_count": 5
        }
      ]
    },
    {
      "cell_type": "code",
      "source": [
        "\n",
        "g=\"i\"\n",
        "type(g)"
      ],
      "metadata": {
        "colab": {
          "base_uri": "https://localhost:8080/"
        },
        "id": "DUvOQCkmP_mg",
        "outputId": "81bf4359-bc15-489c-c127-07e55a18359a"
      },
      "execution_count": null,
      "outputs": [
        {
          "output_type": "execute_result",
          "data": {
            "text/plain": [
              "str"
            ]
          },
          "metadata": {},
          "execution_count": 6
        }
      ]
    },
    {
      "cell_type": "code",
      "source": [
        "x=1\n",
        "x=\"Rasika\"\n",
        "print(x)"
      ],
      "metadata": {
        "id": "q_BOBt_RR__v",
        "colab": {
          "base_uri": "https://localhost:8080/"
        },
        "outputId": "430ebea6-f208-4c33-e032-8ab326e60be1"
      },
      "execution_count": null,
      "outputs": [
        {
          "output_type": "stream",
          "name": "stdout",
          "text": [
            "Rasika\n"
          ]
        }
      ]
    },
    {
      "cell_type": "code",
      "source": [
        "a=b=c=1\n",
        "print(a)\n",
        "print(b)"
      ],
      "metadata": {
        "colab": {
          "base_uri": "https://localhost:8080/"
        },
        "id": "PI_iRC9IvC4l",
        "outputId": "5730563e-28f1-4c59-c0a1-84b0df43c8d8"
      },
      "execution_count": null,
      "outputs": [
        {
          "output_type": "stream",
          "name": "stdout",
          "text": [
            "1\n",
            "1\n"
          ]
        }
      ]
    },
    {
      "cell_type": "code",
      "source": [
        "a,b,c=1,\"Jhonny\",3.9"
      ],
      "metadata": {
        "id": "xYXJKbjMvPd_"
      },
      "execution_count": null,
      "outputs": []
    },
    {
      "cell_type": "code",
      "source": [
        "print(a)\n"
      ],
      "metadata": {
        "colab": {
          "base_uri": "https://localhost:8080/"
        },
        "id": "j047xqWGvoSn",
        "outputId": "1e7a66cd-1303-487e-d0f1-885051e987b1"
      },
      "execution_count": null,
      "outputs": [
        {
          "output_type": "stream",
          "name": "stdout",
          "text": [
            "1\n"
          ]
        }
      ]
    },
    {
      "cell_type": "code",
      "source": [
        "print(b)"
      ],
      "metadata": {
        "colab": {
          "base_uri": "https://localhost:8080/"
        },
        "id": "pSNoGvvavqkf",
        "outputId": "e642918a-a5a5-4920-f183-977b94504372"
      },
      "execution_count": null,
      "outputs": [
        {
          "output_type": "stream",
          "name": "stdout",
          "text": [
            "Jhonny\n"
          ]
        }
      ]
    },
    {
      "cell_type": "code",
      "source": [
        "print(c)"
      ],
      "metadata": {
        "colab": {
          "base_uri": "https://localhost:8080/"
        },
        "id": "EWMDCK41vsK1",
        "outputId": "a8eccdd5-c073-4aa2-dcdf-6e497a95bdc4"
      },
      "execution_count": null,
      "outputs": [
        {
          "output_type": "stream",
          "name": "stdout",
          "text": [
            "3.9\n"
          ]
        }
      ]
    },
    {
      "cell_type": "code",
      "source": [
        "a=input(\"Enter your value:\")\n",
        "print(a)"
      ],
      "metadata": {
        "colab": {
          "base_uri": "https://localhost:8080/"
        },
        "id": "EwGYrI_Ivvws",
        "outputId": "6d351fd9-98b5-43dc-87aa-3687442960fe"
      },
      "execution_count": null,
      "outputs": [
        {
          "output_type": "stream",
          "name": "stdout",
          "text": [
            "Enter your value:12\n",
            "12\n"
          ]
        }
      ]
    },
    {
      "cell_type": "code",
      "source": [
        "val=input(\"who is your favourite Actress:\")\n",
        "print(\"my favourite actress is\",val)"
      ],
      "metadata": {
        "colab": {
          "base_uri": "https://localhost:8080/"
        },
        "id": "uIxpu4ThwKGg",
        "outputId": "d4b3905f-403c-4e44-8ada-ed51dbf30a2e"
      },
      "execution_count": null,
      "outputs": [
        {
          "output_type": "stream",
          "name": "stdout",
          "text": [
            "who is your favourite Actress:Alexzandra Daddario\n",
            "my favourite actress is Alexzandra Daddario\n"
          ]
        }
      ]
    },
    {
      "cell_type": "code",
      "source": [
        "age=int(input(\"Enter your age: \"))\n",
        "age"
      ],
      "metadata": {
        "colab": {
          "base_uri": "https://localhost:8080/"
        },
        "id": "rQsXcZyvwxgW",
        "outputId": "27c5e974-493d-40ba-d6a1-63a903a92559"
      },
      "execution_count": null,
      "outputs": [
        {
          "name": "stdout",
          "output_type": "stream",
          "text": [
            "Enter your age: 20\n"
          ]
        },
        {
          "output_type": "execute_result",
          "data": {
            "text/plain": [
              "20"
            ]
          },
          "metadata": {},
          "execution_count": 24
        }
      ]
    },
    {
      "cell_type": "code",
      "source": [],
      "metadata": {
        "id": "2DOQDr09zDLd"
      },
      "execution_count": null,
      "outputs": []
    },
    {
      "cell_type": "code",
      "source": [
        "salary=float(input(\"Enter your salary: \"))\n",
        "salary"
      ],
      "metadata": {
        "colab": {
          "base_uri": "https://localhost:8080/"
        },
        "id": "gjthy29gyuJd",
        "outputId": "87a462e9-4e2f-4dc1-dcf6-5cd177bb93fe"
      },
      "execution_count": null,
      "outputs": [
        {
          "name": "stdout",
          "output_type": "stream",
          "text": [
            "Enter your salary: 100000000000\n"
          ]
        },
        {
          "output_type": "execute_result",
          "data": {
            "text/plain": [
              "100000000000.0"
            ]
          },
          "metadata": {},
          "execution_count": 25
        }
      ]
    },
    {
      "cell_type": "code",
      "source": [
        "Statement=bool(input(\"You are beautiful: \"))\n",
        "Statement"
      ],
      "metadata": {
        "colab": {
          "base_uri": "https://localhost:8080/"
        },
        "id": "xwpaNP7Fy5mD",
        "outputId": "8f511221-eb33-4f6a-b7f7-06ec80fe13f8"
      },
      "execution_count": null,
      "outputs": [
        {
          "name": "stdout",
          "output_type": "stream",
          "text": [
            "You are beautiful: true\n"
          ]
        },
        {
          "output_type": "execute_result",
          "data": {
            "text/plain": [
              "True"
            ]
          },
          "metadata": {},
          "execution_count": 26
        }
      ]
    },
    {
      "cell_type": "code",
      "source": [
        "2+3 #operation perform on numbers"
      ],
      "metadata": {
        "colab": {
          "base_uri": "https://localhost:8080/"
        },
        "id": "cUvJ-jprzU8u",
        "outputId": "a99ba13c-a32c-4aa8-c284-d37aff68b25c"
      },
      "execution_count": null,
      "outputs": [
        {
          "output_type": "execute_result",
          "data": {
            "text/plain": [
              "5"
            ]
          },
          "metadata": {},
          "execution_count": 27
        }
      ]
    },
    {
      "cell_type": "code",
      "source": [
        "a=2\n",
        "b=3\n",
        "c=a+b\n",
        "print(c)"
      ],
      "metadata": {
        "colab": {
          "base_uri": "https://localhost:8080/"
        },
        "id": "NcsGrDfp0zQE",
        "outputId": "7426f6ad-5972-4021-8885-01b0b6533953"
      },
      "execution_count": null,
      "outputs": [
        {
          "output_type": "stream",
          "name": "stdout",
          "text": [
            "5\n"
          ]
        }
      ]
    },
    {
      "cell_type": "code",
      "source": [
        "a=25\n",
        "b=20\n",
        "c=15\n",
        "d=a+b+c\n",
        "e=a/b\n",
        "f=a*c\n",
        "g=a-b-c\n",
        "h=a**3\n",
        "i=a%c\n",
        "print(d)\n",
        "print(e)\n",
        "print(f)\n",
        "print(g)\n",
        "print(h)\n",
        "print(i)"
      ],
      "metadata": {
        "colab": {
          "base_uri": "https://localhost:8080/"
        },
        "id": "RNyA_w-j05uF",
        "outputId": "8a7375a3-b917-4a0b-ebe9-56a739bc2193"
      },
      "execution_count": null,
      "outputs": [
        {
          "output_type": "stream",
          "name": "stdout",
          "text": [
            "60\n",
            "1.25\n",
            "375\n",
            "-10\n",
            "15625\n",
            "10\n"
          ]
        }
      ]
    },
    {
      "cell_type": "code",
      "source": [
        "a=12\n",
        "b=18\n",
        "c=8\n",
        "d=12\n",
        "a>b"
      ],
      "metadata": {
        "colab": {
          "base_uri": "https://localhost:8080/"
        },
        "id": "4P1EkfV_1rrM",
        "outputId": "94c3568e-e128-44cf-e4a5-f8c60888e9bd"
      },
      "execution_count": null,
      "outputs": [
        {
          "output_type": "execute_result",
          "data": {
            "text/plain": [
              "False"
            ]
          },
          "metadata": {},
          "execution_count": 36
        }
      ]
    },
    {
      "cell_type": "code",
      "source": [
        "a<c"
      ],
      "metadata": {
        "colab": {
          "base_uri": "https://localhost:8080/"
        },
        "id": "FP2WvqBQ3KYh",
        "outputId": "762bced3-54b1-4e2c-a669-a23824476f7e"
      },
      "execution_count": null,
      "outputs": [
        {
          "output_type": "execute_result",
          "data": {
            "text/plain": [
              "False"
            ]
          },
          "metadata": {},
          "execution_count": 33
        }
      ]
    },
    {
      "cell_type": "code",
      "source": [
        "b>a"
      ],
      "metadata": {
        "colab": {
          "base_uri": "https://localhost:8080/"
        },
        "id": "-wj5Sc_r3MAY",
        "outputId": "58ab7d9b-51cd-417f-9cbf-6549fa6efbf2"
      },
      "execution_count": null,
      "outputs": [
        {
          "output_type": "execute_result",
          "data": {
            "text/plain": [
              "True"
            ]
          },
          "metadata": {},
          "execution_count": 34
        }
      ]
    },
    {
      "cell_type": "code",
      "source": [
        "a==d"
      ],
      "metadata": {
        "colab": {
          "base_uri": "https://localhost:8080/"
        },
        "id": "syYEb8pU3ONK",
        "outputId": "5bc78f29-a29a-48a4-b066-5cfc504d1243"
      },
      "execution_count": null,
      "outputs": [
        {
          "output_type": "execute_result",
          "data": {
            "text/plain": [
              "True"
            ]
          },
          "metadata": {},
          "execution_count": 37
        }
      ]
    },
    {
      "cell_type": "code",
      "source": [
        "a<=b\n"
      ],
      "metadata": {
        "colab": {
          "base_uri": "https://localhost:8080/"
        },
        "id": "O8pwhSGd3XBv",
        "outputId": "3b3ef635-4ecd-458f-d848-638ba35440c2"
      },
      "execution_count": null,
      "outputs": [
        {
          "output_type": "execute_result",
          "data": {
            "text/plain": [
              "True"
            ]
          },
          "metadata": {},
          "execution_count": 40
        }
      ]
    },
    {
      "cell_type": "code",
      "source": [
        "c>=a"
      ],
      "metadata": {
        "colab": {
          "base_uri": "https://localhost:8080/"
        },
        "id": "ueIRUK053gaT",
        "outputId": "f0d4ec2c-13a2-445c-e4ff-d89264dfdaa4"
      },
      "execution_count": null,
      "outputs": [
        {
          "output_type": "execute_result",
          "data": {
            "text/plain": [
              "False"
            ]
          },
          "metadata": {},
          "execution_count": 39
        }
      ]
    },
    {
      "cell_type": "code",
      "source": [
        "a!=d"
      ],
      "metadata": {
        "colab": {
          "base_uri": "https://localhost:8080/"
        },
        "id": "Ps1h4Rkm3jcW",
        "outputId": "af23b2c4-c092-4535-dd63-1dbf0fe7671e"
      },
      "execution_count": null,
      "outputs": [
        {
          "output_type": "execute_result",
          "data": {
            "text/plain": [
              "False"
            ]
          },
          "metadata": {},
          "execution_count": 41
        }
      ]
    },
    {
      "cell_type": "code",
      "source": [
        "b!=c"
      ],
      "metadata": {
        "colab": {
          "base_uri": "https://localhost:8080/"
        },
        "id": "P5KDx-y03nVN",
        "outputId": "5505c0ed-d408-4237-cff4-9a9df12d6b80"
      },
      "execution_count": null,
      "outputs": [
        {
          "output_type": "execute_result",
          "data": {
            "text/plain": [
              "True"
            ]
          },
          "metadata": {},
          "execution_count": 42
        }
      ]
    },
    {
      "cell_type": "code",
      "source": [
        "a=2\n",
        "b=3\n",
        "c=False\n",
        "print(a<b and b>a)#and optr\n",
        "print(a<b or b<a)#or optr\n",
        "print(a>b and b<a)\n",
        "print(not c)#not optr"
      ],
      "metadata": {
        "colab": {
          "base_uri": "https://localhost:8080/"
        },
        "id": "4w1xgAIp3pXh",
        "outputId": "774928e8-2e9e-49db-89a7-c21c48c137b5"
      },
      "execution_count": null,
      "outputs": [
        {
          "output_type": "stream",
          "name": "stdout",
          "text": [
            "True\n",
            "True\n",
            "False\n",
            "True\n"
          ]
        }
      ]
    },
    {
      "cell_type": "code",
      "source": [
        "a=int(input(\"Enter first value: \"))\n",
        "b=int(input(\"Enter second value: \"))\n",
        "c=a+b\n",
        "print(\"Addition of numbers is:\",c)\n"
      ],
      "metadata": {
        "colab": {
          "base_uri": "https://localhost:8080/"
        },
        "id": "8VWEkaDE4qp3",
        "outputId": "5874a561-6815-4751-e186-d615f325a306"
      },
      "execution_count": null,
      "outputs": [
        {
          "output_type": "stream",
          "name": "stdout",
          "text": [
            "Enter first value: 12\n",
            "Enter second value: 23\n",
            "Addition of numbers is: 35\n"
          ]
        }
      ]
    },
    {
      "cell_type": "code",
      "source": [
        "num=20 #comparision optr\n",
        "num=num+10\n",
        "print(\"num:\",num)"
      ],
      "metadata": {
        "colab": {
          "base_uri": "https://localhost:8080/"
        },
        "id": "FPSYbUod6e_d",
        "outputId": "67dafdbc-5f8c-4d5d-e900-9a77153777b3"
      },
      "execution_count": null,
      "outputs": [
        {
          "output_type": "stream",
          "name": "stdout",
          "text": [
            "num: 30\n"
          ]
        }
      ]
    },
    {
      "cell_type": "code",
      "source": [
        "num=20\n",
        "num+=5\n",
        "print(num)"
      ],
      "metadata": {
        "colab": {
          "base_uri": "https://localhost:8080/"
        },
        "id": "xQM8Q6kO66J9",
        "outputId": "3a9e5fbf-0466-4123-dcb8-0468190061ab"
      },
      "execution_count": null,
      "outputs": [
        {
          "output_type": "stream",
          "name": "stdout",
          "text": [
            "25\n"
          ]
        }
      ]
    },
    {
      "cell_type": "code",
      "source": [
        "num-=5\n",
        "print(num)"
      ],
      "metadata": {
        "colab": {
          "base_uri": "https://localhost:8080/"
        },
        "id": "5ygdYrrT8rWl",
        "outputId": "52d7b7e4-ff64-41b2-ccc5-8f64a8d0f30e"
      },
      "execution_count": null,
      "outputs": [
        {
          "output_type": "stream",
          "name": "stdout",
          "text": [
            "20\n"
          ]
        }
      ]
    },
    {
      "cell_type": "code",
      "source": [
        "num*=5\n",
        "print(num)"
      ],
      "metadata": {
        "colab": {
          "base_uri": "https://localhost:8080/"
        },
        "id": "w0ZRWG2g82d0",
        "outputId": "a1a1a405-1606-4859-9def-8c9bf1d20e99"
      },
      "execution_count": null,
      "outputs": [
        {
          "output_type": "stream",
          "name": "stdout",
          "text": [
            "100\n"
          ]
        }
      ]
    },
    {
      "cell_type": "code",
      "source": [
        "#identity opertaor\n",
        "a=10\n",
        "b=20\n",
        "c=a\n",
        "d=10\n",
        "print(a is not b)\n",
        "print(a is c)\n",
        "print(a is d)"
      ],
      "metadata": {
        "colab": {
          "base_uri": "https://localhost:8080/"
        },
        "id": "8Lm3SQMP87G7",
        "outputId": "9d1ac8d7-53ee-4d44-d937-39425207b0b7"
      },
      "execution_count": null,
      "outputs": [
        {
          "output_type": "stream",
          "name": "stdout",
          "text": [
            "True\n",
            "True\n",
            "True\n"
          ]
        }
      ]
    },
    {
      "cell_type": "code",
      "source": [
        "#membership operator\n",
        "lst=[1,2,3]\n",
        "print(1 in lst)\n",
        "print(4 not in lst)"
      ],
      "metadata": {
        "colab": {
          "base_uri": "https://localhost:8080/"
        },
        "id": "Rx9cUpaR-cnB",
        "outputId": "8be19bf0-98a3-44f3-9859-6035f30b3372"
      },
      "execution_count": null,
      "outputs": [
        {
          "output_type": "stream",
          "name": "stdout",
          "text": [
            "True\n",
            "True\n"
          ]
        }
      ]
    },
    {
      "cell_type": "code",
      "source": [
        "a=10\n",
        "b=4\n",
        "print(\"a&b :\",a&b)\n",
        "print(\"a|b :\",a|b)\n",
        "print(\"~a :\",~a)\n",
        "print(\"a^b :\",a^b)\n",
        "print(\"a>>2 :\",a>>2)\n",
        "print(\"a<<2 :\",a<<2)\n"
      ],
      "metadata": {
        "id": "rVNLve-v_TLc",
        "colab": {
          "base_uri": "https://localhost:8080/"
        },
        "outputId": "56cc287c-778e-4e9e-f713-fb940ea9205a"
      },
      "execution_count": null,
      "outputs": [
        {
          "output_type": "stream",
          "name": "stdout",
          "text": [
            "a&b : 0\n",
            "a|b : 14\n",
            "~a : -11\n",
            "a^b : 14\n",
            "a>>2 : 2\n",
            "a<<2 : 40\n"
          ]
        }
      ]
    },
    {
      "cell_type": "code",
      "source": [],
      "metadata": {
        "id": "zEuu_E0p3_rL"
      },
      "execution_count": null,
      "outputs": []
    }
  ]
}